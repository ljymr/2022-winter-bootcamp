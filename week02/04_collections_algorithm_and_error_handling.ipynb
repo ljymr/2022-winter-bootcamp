{
 "cells": [
  {
   "cell_type": "markdown",
   "metadata": {},
   "source": [
    "<h1>Lists</h1>\n",
    "<li>Sequential, Ordered Collections\n"
   ]
  },
  {
   "cell_type": "code",
   "execution_count": 1,
   "metadata": {},
   "outputs": [],
   "source": [
    "Programming = data structure + algorithm \n",
    "\n",
    "CRUDS - created/add, read, update, delete, search 增删查改"
   ]
  },
  {
   "cell_type": "markdown",
   "metadata": {},
   "source": [
    "<h2>Creating lists</h2>"
   ]
  },
  {
   "cell_type": "code",
   "execution_count": 1,
   "metadata": {},
   "outputs": [
    {
     "name": "stdout",
     "output_type": "stream",
     "text": [
      "[4, 2, 6, 3]\n",
      "[]\n"
     ]
    }
   ],
   "source": [
    "# queue, array\n",
    "x = [4,2,6,3] #Create a list with values\n",
    "y = list() # Create an empty list\n",
    "y = [] #Create an empty list\n",
    "print(x)\n",
    "print(y)"
   ]
  },
  {
   "cell_type": "code",
   "execution_count": 5,
   "metadata": {},
   "outputs": [
    {
     "name": "stdout",
     "output_type": "stream",
     "text": [
      "[123, 'xyz', 'zara', 'abc']\n"
     ]
    }
   ],
   "source": [
    "aTuple = (123, 'xyz', 'zara', 'abc');\n",
    "aList = list(aTuple)\n",
    "print(aList)"
   ]
  },
  {
   "cell_type": "markdown",
   "metadata": {},
   "source": [
    "<h3>Adding items to a list</h3>\n"
   ]
  },
  {
   "cell_type": "code",
   "execution_count": 2,
   "metadata": {},
   "outputs": [
    {
     "name": "stdout",
     "output_type": "stream",
     "text": [
      "[]\n",
      "['One']\n",
      "['One', 'Two']\n"
     ]
    }
   ],
   "source": [
    "x=list()\n",
    "print(x)\n",
    "x.append('One') #Adds 'One' to the back of the empty list\n",
    "print(x)\n",
    "x.append('Two') #Adds 'Two' to the back of the list ['One']\n",
    "print(x)"
   ]
  },
  {
   "cell_type": "code",
   "execution_count": 3,
   "metadata": {},
   "outputs": [
    {
     "name": "stdout",
     "output_type": "stream",
     "text": [
      "['Half', 'One', 'Two']\n"
     ]
    }
   ],
   "source": [
    "x.insert(0,'Half') #Inserts 'Half' at location 0. Items will shift to make roomw\n",
    "print(x)"
   ]
  },
  {
   "cell_type": "code",
   "execution_count": 4,
   "metadata": {},
   "outputs": [
    {
     "name": "stdout",
     "output_type": "stream",
     "text": [
      "[1]\n",
      "[1, 1, 2, 3]\n"
     ]
    }
   ],
   "source": [
    "x=list()\n",
    "x.append(1)\n",
    "print(x)\n",
    "x.extend([1,2,3]) #Unpacks the list and adds each item to the back of the list\n",
    "print(x)"
   ]
  },
  {
   "cell_type": "markdown",
   "metadata": {},
   "source": [
    "<h3>Indexing and slicing</h3>"
   ]
  },
  {
   "cell_type": "code",
   "execution_count": 5,
   "metadata": {},
   "outputs": [
    {
     "name": "stdout",
     "output_type": "stream",
     "text": [
      "8\n",
      "5\n",
      "[2, 5, 3]\n",
      "32\n",
      "[32, 67, 5, 3, 5, 2, 7, 1]\n",
      "234\n"
     ]
    }
   ],
   "source": [
    "x=[1,7,2,5,3,5,67,32]\n",
    "print(len(x))\n",
    "print(x[3]) #4th item, python is zero-based language\n",
    "print(x[2:5]) \n",
    "print(x[-1])\n",
    "print(x[::-1]) # same list, backwards\n",
    "s = \"12345\" # list for characters (str)\n",
    "s1 = [\"1\", \"2\", \"3\"]\n",
    "s2 = s[1] + s[2] + s[3]\n",
    "s2 = s[1:4]\n",
    "\n",
    "print(s2)"
   ]
  },
  {
   "cell_type": "code",
   "execution_count": 9,
   "metadata": {},
   "outputs": [
    {
     "name": "stdout",
     "output_type": "stream",
     "text": [
      "[1, 1, 2, 3]\n",
      "[3, 2, 1, 1]\n",
      "[1, 1, 2, 3]\n",
      "[3, 2, 1, 1]\n"
     ]
    }
   ],
   "source": [
    "print(x)\n",
    "x.reverse() # Return is None, Update it to be in reverse order\n",
    "print(x)\n",
    "print(x[::-1]) # Return a new list, Read in reverse order\n",
    "print(x)"
   ]
  },
  {
   "cell_type": "markdown",
   "metadata": {},
   "source": [
    "<h3>Removing items from a list</h3>"
   ]
  },
  {
   "cell_type": "code",
   "execution_count": 6,
   "metadata": {},
   "outputs": [
    {
     "name": "stdout",
     "output_type": "stream",
     "text": [
      "[1, 7, 2, 5, 3, 5, 67]\n",
      "[1, 7, 2, 3, 5, 67]\n",
      "[1, 2, 3, 5, 67]\n"
     ]
    }
   ],
   "source": [
    "x=[1,7,2,5,3,5,67,32]\n",
    "x.pop() #Removes the last element from a list\n",
    "print(x)\n",
    "x.pop(3) #Removes element at item 3 from a list\n",
    "print(x)\n",
    "x.remove(7) #Removes the first 7 from the list; remove() method removes the first matching element (which is passed as an argument) from the list.\n",
    "print(x)"
   ]
  },
  {
   "cell_type": "markdown",
   "metadata": {},
   "source": [
    "<h3>Anything you want to remove must be in the list or the location must be inside the list</h3>"
   ]
  },
  {
   "cell_type": "code",
   "execution_count": 8,
   "metadata": {},
   "outputs": [],
   "source": [
    "if 20 in x:\n",
    "    x.remove(20)"
   ]
  },
  {
   "cell_type": "markdown",
   "metadata": {},
   "source": [
    "<h2>Mutablility of lists</h2>\n",
    "<li>Lists are <span style=\"color:red\">mutable</span>\n",
    "<li>They can be changed while at the same location in memory"
   ]
  },
  {
   "cell_type": "code",
   "execution_count": null,
   "metadata": {},
   "outputs": [],
   "source": [
    "x=list()\n",
    "print(x,id(x))\n",
    "x.extend([1,2,3])\n",
    "print(x,id(x))\n",
    "x += [4,5,6]\n",
    "print(x,id(x))\n",
    "x = x + [4,5,6]\n",
    "print(x,id(x))"
   ]
  },
  {
   "cell_type": "code",
   "execution_count": 4,
   "metadata": {},
   "outputs": [
    {
     "name": "stdout",
     "output_type": "stream",
     "text": [
      "Hello 140632960596720\n",
      "Hello You! 140632960654704\n",
      "['Hello'] 140632960413440\n",
      "['Hello', 'You!'] 140632960413440\n"
     ]
    }
   ],
   "source": [
    "x=\"Hello\"\n",
    "print(x,id(x))\n",
    "x+=\" You!\"\n",
    "print(x,id(x)) #x is not the same object it was\n",
    "y=[\"Hello\"]\n",
    "print(y,id(y))\n",
    "y+=[\"You!\"] \n",
    "print(y,id(y)) #y is still the same object. Lists are mutable. Strings are immutable\n"
   ]
  },
  {
   "cell_type": "markdown",
   "metadata": {},
   "source": [
    "<h4>Objects inside a list have independent existence</h4>"
   ]
  },
  {
   "cell_type": "code",
   "execution_count": 13,
   "metadata": {},
   "outputs": [
    {
     "name": "stdout",
     "output_type": "stream",
     "text": [
      "[1, ['a', 'b'], 3] 140447220919744 140447220963280\n",
      "['a', 'b']\n",
      "['a', 4] 140447220963280\n",
      "id1: 140447220503328\n",
      "id2: 140447220731728\n",
      "[[[1], 2], 3] [[1], 2]\n"
     ]
    }
   ],
   "source": [
    "y=['a','b']\n",
    "x = [1,y,3]\n",
    "print(x, id(x), id(y))\n",
    "print(y)\n",
    "y[1] = 4\n",
    "print(y,id(y))\n",
    "\n",
    "a = [1]\n",
    "b = [a, 2]\n",
    "print(\"id1:\", id(a))\n",
    "a = [b, 3]\n",
    "print(\"id2:\", id(a))\n",
    "print(a, b)"
   ]
  },
  {
   "cell_type": "code",
   "execution_count": null,
   "metadata": {},
   "outputs": [],
   "source": [
    "print(x)"
   ]
  },
  {
   "cell_type": "code",
   "execution_count": 14,
   "metadata": {},
   "outputs": [
    {
     "name": "stdout",
     "output_type": "stream",
     "text": [
      "[1, ['a', 4], 3] 140447221331120\n"
     ]
    },
    {
     "data": {
      "text/plain": [
       "['__add__',\n",
       " '__class__',\n",
       " '__contains__',\n",
       " '__delattr__',\n",
       " '__delitem__',\n",
       " '__dir__',\n",
       " '__doc__',\n",
       " '__eq__',\n",
       " '__format__',\n",
       " '__ge__',\n",
       " '__getattribute__',\n",
       " '__getitem__',\n",
       " '__gt__',\n",
       " '__hash__',\n",
       " '__iadd__',\n",
       " '__imul__',\n",
       " '__init__',\n",
       " '__init_subclass__',\n",
       " '__iter__',\n",
       " '__le__',\n",
       " '__len__',\n",
       " '__lt__',\n",
       " '__mul__',\n",
       " '__ne__',\n",
       " '__new__',\n",
       " '__reduce__',\n",
       " '__reduce_ex__',\n",
       " '__repr__',\n",
       " '__reversed__',\n",
       " '__rmul__',\n",
       " '__setattr__',\n",
       " '__setitem__',\n",
       " '__sizeof__',\n",
       " '__str__',\n",
       " '__subclasshook__',\n",
       " 'append',\n",
       " 'clear',\n",
       " 'copy',\n",
       " 'count',\n",
       " 'extend',\n",
       " 'index',\n",
       " 'insert',\n",
       " 'pop',\n",
       " 'remove',\n",
       " 'reverse',\n",
       " 'sort']"
      ]
     },
     "execution_count": 14,
     "metadata": {},
     "output_type": "execute_result"
    }
   ],
   "source": [
    "y = [1,2]\n",
    "print(x, id(y))\n",
    "# what do you expect?\n",
    "dir(y)\n",
    "y.append()"
   ]
  },
  {
   "cell_type": "markdown",
   "metadata": {},
   "source": [
    "<h3>Mutability has consequences in function calls</h3>"
   ]
  },
  {
   "cell_type": "code",
   "execution_count": 12,
   "metadata": {},
   "outputs": [
    {
     "name": "stdout",
     "output_type": "stream",
     "text": [
      "[2, 3, 4]\n",
      "[3, 4, 5]\n",
      "[2, 3, 4]\n"
     ]
    }
   ],
   "source": [
    "# in-place\n",
    "def test(param: [int]) -> None:\n",
    "    for i in range(len(param)):\n",
    "        param[i] = param[i] + 1\n",
    "    return\n",
    "\n",
    "# Prefer - do not edit input param \n",
    "def test2(param: [int]) -> [int]:\n",
    "    res = []\n",
    "    for i in range(len(param)):\n",
    "        res.append(param[i] + 1)\n",
    "    return res\n",
    "\n",
    "p1 = [1, 2, 3]\n",
    "test(p1)\n",
    "print(p1)\n",
    "print(test2(p1))\n",
    "print(p1)\n",
    "# print(test2([1,2,3]))\n",
    "    "
   ]
  },
  {
   "cell_type": "code",
   "execution_count": 12,
   "metadata": {},
   "outputs": [],
   "source": [
    "def binary_search(arr, target):\n",
    "    start = 0\n",
    "    end = len(arr)\n",
    "    while start < end: \n",
    "        mid = (start + end) // 2\n",
    "        if arr[mid] == target:\n",
    "            return mid\n",
    "        elif arr[mid] < target:\n",
    "            start = mid + 1\n",
    "        else:\n",
    "            end = mid - 1\n",
    "    return -1\n",
    "\n",
    "assert(binary_search([1,2,4,6,10], 1) == 0)"
   ]
  },
  {
   "cell_type": "code",
   "execution_count": 19,
   "metadata": {},
   "outputs": [
    {
     "name": "stdout",
     "output_type": "stream",
     "text": [
      "1\n"
     ]
    }
   ],
   "source": [
    "'''\n",
    "\n",
    "arr = [1,2,5,7,10,13] \n",
    "[]\n",
    "\n",
    "target: 10 -> 4\n",
    "11 -> -1\n",
    "\n",
    "arr[(len - 1)/2] = arr[2] -> 5 {2} \n",
    "[2+1:] -> [7, 10, 13]\n",
    "arr[2/2] = arr[1] -> 10 -> {4}\n",
    "\n",
    "left = 0, right = len - 1\n",
    "left = 3, right = len - 1\n",
    "\n",
    "mid = (right + left) / 2, \n",
    "   if arr[mid] == target:\n",
    "      return mid\n",
    "   if arr[mid] < target:\n",
    "      left = mid + 1\n",
    "   if arr[mid] > target:\n",
    "      right = mid - 1\n",
    "      \n",
    "left <= right -> []\n",
    "\n",
    "'''\n",
    "\n",
    "# example.index(9)\n",
    "\n",
    "# N - total number\n",
    "# N -> lgN\n",
    "\n",
    "# input list of arr, target\n",
    "# output is index or -1\n",
    "# binary search \n",
    "def b_search(arr: [int], target: int) -> int:\n",
    "    start = 0 \n",
    "    end = len(arr) - 1 \n",
    "    while start <= end:\n",
    "        mid = int((start + end) / 2)\n",
    "        if arr[mid] == target:\n",
    "            return mid\n",
    "        \n",
    "        if arr[mid] > target:\n",
    "            end = mid - 1\n",
    "        else:\n",
    "            start = mid + 1\n",
    "    return -1 # 搜索空间为 ∅\n",
    "\n",
    "print(b_search([1,2,5,6], 5))\n",
    "\n",
    "[1,2,3,3,4,5,5,5,5,5,5,5,5,5,5,5,5,5,...] -> [first_idx, last_idx]\n",
    "\n",
    "2^x = space[n]"
   ]
  },
  {
   "cell_type": "markdown",
   "metadata": {},
   "source": [
    "not sorted [1,5,2,3,6] -> T O(n), \n",
    "repeated and not sorted [1,5,5,5,2,2] -> T O(n), \n",
    "\n",
    "repeated and sorted? [1,2,2,3,4,5,7,9,9] can we use Bsearch?\n",
    "\n",
    "Time VS Space (trade off)\n",
    "O(n) ~= n 量级\n",
    "O(C) ~= 1\n",
    "\n",
    "O(C), O(logn), O(n), O(nlogn) sorting algorithm, "
   ]
  },
  {
   "cell_type": "markdown",
   "metadata": {},
   "source": [
    "<h1>Tuples</h1>\n",
    "<li>Tuples are sequential ordered collections\n",
    "<li>Unlike lists, they are immutable\n",
    "    \n",
    "    immutable vs mutable\n",
    "    "
   ]
  },
  {
   "cell_type": "code",
   "execution_count": null,
   "metadata": {},
   "outputs": [],
   "source": [
    "t = ()\n",
    "print(t)"
   ]
  },
  {
   "cell_type": "code",
   "execution_count": null,
   "metadata": {},
   "outputs": [],
   "source": [
    "x = ('a','b','c')\n",
    "x.append('d')"
   ]
  },
  {
   "cell_type": "markdown",
   "metadata": {},
   "source": [
    "<h3>Question: Is x mutable or immutable?</h3>"
   ]
  },
  {
   "cell_type": "code",
   "execution_count": 16,
   "metadata": {},
   "outputs": [
    {
     "data": {
      "text/plain": [
       "2"
      ]
     },
     "execution_count": 16,
     "metadata": {},
     "output_type": "execute_result"
    }
   ],
   "source": [
    "x = ((1,2), ['a','b'],3)\n",
    "x[0][1]"
   ]
  },
  {
   "cell_type": "code",
   "execution_count": null,
   "metadata": {},
   "outputs": [],
   "source": [
    "#Will this work?\n",
    "x[0]=1"
   ]
  },
  {
   "cell_type": "code",
   "execution_count": null,
   "metadata": {},
   "outputs": [],
   "source": [
    "#What about this?\n",
    "x[0][0]=1"
   ]
  },
  {
   "cell_type": "code",
   "execution_count": null,
   "metadata": {},
   "outputs": [],
   "source": [
    "#And this?\n",
    "x[1][0]=1\n",
    "print(x[1][0])"
   ]
  },
  {
   "cell_type": "markdown",
   "metadata": {},
   "source": [
    "<h1>Iteration</h1>"
   ]
  },
  {
   "cell_type": "markdown",
   "metadata": {},
   "source": [
    "<h2>Iterators</h2>\n",
    "<li>Iterators are <span style=\"color:red\">generators</span> that generate iterable elements on the fly\n",
    "<li><span style=\"color:blue\">range</span> is a python iterator that generates indexes on an iterable collection\n",
    "    \n",
    "Reference : Goodrich - data structures & algorithms in Python\n",
    "    \n",
    "DRY\n",
    "CRUD -> Create/Add, Read, Update, Delete"
   ]
  },
  {
   "cell_type": "code",
   "execution_count": null,
   "metadata": {},
   "outputs": [],
   "source": [
    "\n",
    "# 1 2 3 4 5 6\n",
    "# current, hasNext, next\n",
    "# value() -> int, hasNext() -> bool, next() -> next iterator"
   ]
  },
  {
   "cell_type": "code",
   "execution_count": null,
   "metadata": {},
   "outputs": [],
   "source": [
    "range(10)\n",
    "arr = [[1, 2], 3, 4]\n",
    "str1 = \"abc\""
   ]
  },
  {
   "cell_type": "code",
   "execution_count": null,
   "metadata": {},
   "outputs": [],
   "source": [
    "for n in str1:\n",
    "  print(type(n))\n",
    "\n",
    "# str1 = 1 2 3 4\n",
    "# iterator -> hasNext(), next()\n",
    "\n",
    "# 2^32\n",
    "# [head -> 1] -> 2 -> 3 -> 4 -> None\n",
    "for n in str1: # hasNext? \n",
    "    print(n)  #4\n",
    "\n",
    "for idx in range(0, len(str1)):\n",
    "    print(str1[idx])\n"
   ]
  },
  {
   "cell_type": "code",
   "execution_count": null,
   "metadata": {},
   "outputs": [],
   "source": [
    "range(0,10,2) #range(start, stop, step)"
   ]
  },
  {
   "cell_type": "code",
   "execution_count": null,
   "metadata": {},
   "outputs": [],
   "source": [
    "x = range(1,10,2)\n",
    "for n in x:\n",
    "    print(n)\n",
    "    "
   ]
  },
  {
   "cell_type": "markdown",
   "metadata": {},
   "source": [
    "<h2>Range iteration</h2>"
   ]
  },
  {
   "cell_type": "code",
   "execution_count": null,
   "metadata": {},
   "outputs": [],
   "source": [
    "#The for loop creates a new variable (e.g., index below)\n",
    "#range(len(x)) generates values from 0 to len(x) \n",
    "x=[1,7,2,5,3,5,67,32]\n",
    "\n",
    "for index in range(len(x)): #循环\n",
    "    print(x[index])"
   ]
  },
  {
   "cell_type": "code",
   "execution_count": null,
   "metadata": {
    "scrolled": true
   },
   "outputs": [],
   "source": [
    "n = 1\n",
    "while n <= 100:\n",
    "    if n > 10: # 当n = 11时，条件满足，执行break语句\n",
    "        break # break语句会结束当前循环\n",
    "    print(n)\n",
    "    n = n + 1\n",
    "print('END')"
   ]
  },
  {
   "cell_type": "code",
   "execution_count": null,
   "metadata": {},
   "outputs": [],
   "source": [
    "n = 0\n",
    "while n < 10:\n",
    "    n = n + 1\n",
    "    if n % 2 == 0: # 如果n是偶数，执行continue语句\n",
    "        continue # continue语句会直接继续下一轮循环，后续的print()语句不会执行\n",
    "    print(n)"
   ]
  },
  {
   "cell_type": "code",
   "execution_count": null,
   "metadata": {},
   "outputs": [],
   "source": [
    "# list(range(len(x)))\n",
    "list(range(1,10,3))\n"
   ]
  },
  {
   "cell_type": "markdown",
   "metadata": {},
   "source": [
    "<h3>List element iteration</h3>"
   ]
  },
  {
   "cell_type": "code",
   "execution_count": null,
   "metadata": {},
   "outputs": [],
   "source": [
    "x=[1,7,2,5,3,5,67,32]\n",
    "for element in x: #The for draws elements - sequentially - from the list x and uses the variable \"element\" to store values\n",
    "    print(element)"
   ]
  },
  {
   "cell_type": "markdown",
   "metadata": {},
   "source": [
    "<h3>Controlling iteration</h3>"
   ]
  },
  {
   "cell_type": "code",
   "execution_count": null,
   "metadata": {},
   "outputs": [],
   "source": [
    "prices = [('AAPL',96.43),('IONS',39.28),('GS',159.53)]\n",
    "ticker = input('Please enter a ticker: ')\n",
    "for item in prices:\n",
    "    if item[0] == ticker:\n",
    "        print(ticker,item[1])\n",
    "        break #get out of loop\n",
    "    else:\n",
    "        print(\"Sorry\",ticker,\"was not found in my database\")\n",
    "print(\"Statement after for\")"
   ]
  },
  {
   "cell_type": "markdown",
   "metadata": {},
   "source": [
    "## Sorting\n"
   ]
  },
  {
   "cell_type": "markdown",
   "metadata": {
    "pycharm": {
     "name": "#%% md\n"
    }
   },
   "source": [
    "## data structure and algorithm\n",
    "## data mining & machine learning\n",
    "## time - space (trade off)\n",
    "\n",
    "Time Complexity: C - lgN - N - NlogN - N^2 - ... - N^N\n",
    "    FuncName (input) -> (output)\n",
    "    [1,2,3,4] -> [4,3,2,1]\n",
    "\n",
    "Space Complexity: (Extra Complexity) \n",
    "    \n",
    "orignal = [3, 7, 6, 9, 8]\n",
    "[3,6,7,8,9]\n",
    "sorted_list = [3,6,7,8,9]\n",
    "\n",
    "selection -> compare and swap \n",
    "selection, quick, merge sort\n"
   ]
  },
  {
   "cell_type": "markdown",
   "metadata": {},
   "source": [
    "# Set\n",
    "What is Hashcode, 支持唯一性和集合操作\n",
    "https://realpython.com/python-sets/"
   ]
  },
  {
   "cell_type": "code",
   "execution_count": 20,
   "metadata": {},
   "outputs": [
    {
     "name": "stdout",
     "output_type": "stream",
     "text": [
      "{'foo', 'bar', 'qux', 'baz'}\n"
     ]
    }
   ],
   "source": [
    "x = set(['foo', 'bar', 'baz', 'foo', 'qux'])\n",
    "print(x)"
   ]
  },
  {
   "cell_type": "code",
   "execution_count": 29,
   "metadata": {},
   "outputs": [
    {
     "name": "stdout",
     "output_type": "stream",
     "text": [
      "False\n",
      "1\n",
      "-8367457677277746776\n",
      "1679298670287514091\n",
      "True\n"
     ]
    }
   ],
   "source": [
    "print(hash(\"foo\") == hash(\"bar\"))\n",
    "print(hash(1))\n",
    "print(hash(\"abcd\"))\n",
    "example_list = [1,2,3,4]\n",
    "example_set = x\n",
    "# print(hash(tuple(example_list)))\n",
    "print(hash(tuple(example_set)))\n",
    "print(int(\"1234\") == 1234)\n",
    "# print(hash(tuple(x)))\n",
    "# print(hash(frozenset(x)))\n",
    "# print(hash(frozenset({1, 2, 3})))"
   ]
  },
  {
   "cell_type": "markdown",
   "metadata": {},
   "source": [
    "<h1>Dictionaries</h1>\n",
    "Python内置了字典：dict的支持，dict全称dictionary，在其他语言中也称为map，使用键-值（key-value）存储，具有极快的查找速度。\n",
    "哈希表，hashTable, hashMap, key-value pair 键值对表"
   ]
  },
  {
   "cell_type": "code",
   "execution_count": null,
   "metadata": {},
   "outputs": [],
   "source": [
    "1. Tree\n",
    "\n",
    "\n",
    "2. Hashing\n",
    "apple -> hashcode  hash function.\n",
    "\n",
    "dict = {}\n",
    "key = 'kevin123' => 01010110... value = mod(515, 100) -> 15 -> memory addr \n",
    "key = 'mike' value = 311 = mod(311, 100) -> 11 -> memory add\n",
    "\n",
    "hashing(str) -> int\n",
    "\n",
    "Add hash(key) -> hashcode -> memory addr ('kevin', 35)\n",
    "Read hash(key) -> hashcode -> memory addr -> 35\n",
    "Update ~= Add\n",
    "Delete hash(key) -> memory addr -> detele ()\n",
    "Search hash(key) -> memory addr -> () ? ('kevin', 35) -> True / False\n",
    "\n",
    "O(1)"
   ]
  },
  {
   "cell_type": "markdown",
   "metadata": {
    "pycharm": {
     "name": "#%% md\n"
    }
   },
   "source": [
    "存储\n",
    "(name: str, content: str)\n",
    "bucket: [] -> 10\n",
    "    \n",
    "hash function \n",
    "\n",
    "'learning python' -> 'l', 'e', 'a' ... -> [ascii] [108, 101, ..] -(sum)> 1507 -(%)> 7 (idx)\n",
    "'abc'\n",
    "('learning python', 'chapter1....') => bucket =[,(),,,,,,(),,]\n",
    "\n",
    "查找\n",
    "hash function \n",
    "'leanring python' -> 7\n",
    " bucket[7] = ('leanrning python', 'chapter1...')\n",
    "\n",
    "\n",
    "set \n",
    "s = ('kevin', 'tim', 'alex')\n",
    "'kevin' in s ==> True\n",
    "'neil' add s ==> \n",
    "\n",
    "Dict\n",
    "{\n",
    "(kevin: True),\n",
    "(tim: True),\n",
    "(alex: True)\n",
    "}\n",
    "\n",
    "'kevin' in d ==> True\n",
    "d['neil'] = True\n",
    "\n",
    "\n"
   ]
  },
  {
   "cell_type": "code",
   "execution_count": 21,
   "metadata": {},
   "outputs": [
    {
     "data": {
      "text/plain": [
       "538.7"
      ]
     },
     "execution_count": 21,
     "metadata": {},
     "output_type": "execute_result"
    }
   ],
   "source": [
    "mktcaps = {\n",
    "    'AAPL':538.7,\n",
    "    'GOOG':68.7,\n",
    "    'IONS':4.6\n",
    "}\n",
    "mktcaps['AAPL'] #Returns the value associated with the key \"AAPL\""
   ]
  },
  {
   "cell_type": "code",
   "execution_count": 27,
   "metadata": {},
   "outputs": [
    {
     "name": "stdout",
     "output_type": "stream",
     "text": [
      "True\n"
     ]
    }
   ],
   "source": [
    "#mktcaps['GS'] #Error because GS is not in mktcaps\n",
    "if 'AAPL' in mktcaps:\n",
    "    print(True)"
   ]
  },
  {
   "cell_type": "code",
   "execution_count": 23,
   "metadata": {},
   "outputs": [
    {
     "name": "stdout",
     "output_type": "stream",
     "text": [
      "{'AAPL': 538.7, 'GOOG': 68.7, 'IONS': 4.6, 'GS': 88.65}\n"
     ]
    }
   ],
   "source": [
    "mktcaps['GS'] = 88.65 #Adds/Updates GS to the dictionary\n",
    "print(mktcaps) "
   ]
  },
  {
   "cell_type": "code",
   "execution_count": 24,
   "metadata": {},
   "outputs": [
    {
     "name": "stdout",
     "output_type": "stream",
     "text": [
      "{'AAPL': 538.7, 'IONS': 4.6, 'GS': 88.65}\n"
     ]
    }
   ],
   "source": [
    "del(mktcaps['GOOG']) #Removes GOOG from mktcaps\n",
    "print(mktcaps)"
   ]
  },
  {
   "cell_type": "code",
   "execution_count": 25,
   "metadata": {},
   "outputs": [
    {
     "data": {
      "text/plain": [
       "dict_keys(['AAPL', 'IONS', 'GS'])"
      ]
     },
     "execution_count": 25,
     "metadata": {},
     "output_type": "execute_result"
    }
   ],
   "source": [
    "mktcaps.keys() #Returns all the keys"
   ]
  },
  {
   "cell_type": "code",
   "execution_count": 26,
   "metadata": {},
   "outputs": [
    {
     "data": {
      "text/plain": [
       "dict_values([538.7, 4.6, 88.65])"
      ]
     },
     "execution_count": 26,
     "metadata": {},
     "output_type": "execute_result"
    }
   ],
   "source": [
    "mktcaps.values() #Returns all the values"
   ]
  },
  {
   "cell_type": "markdown",
   "metadata": {},
   "source": [
    "<h1>Exception handling</h1>"
   ]
  },
  {
   "cell_type": "markdown",
   "metadata": {},
   "source": [
    "<li>Python is a loosely typed language (strong/weak type)\n",
    "<li>The scope for run time errors is huge\n",
    "<li>Python programmers use exception handlers liberally to deal with run time errors\n"
   ]
  },
  {
   "cell_type": "markdown",
   "metadata": {},
   "source": [
    "<h2>Simple example</h2>"
   ]
  },
  {
   "cell_type": "code",
   "execution_count": 28,
   "metadata": {},
   "outputs": [
    {
     "name": "stdout",
     "output_type": "stream",
     "text": [
      "A number: d\n"
     ]
    },
    {
     "ename": "ValueError",
     "evalue": "invalid literal for int() with base 10: 'd'",
     "output_type": "error",
     "traceback": [
      "\u001b[0;31m---------------------------------------------------------------------------\u001b[0m",
      "\u001b[0;31mValueError\u001b[0m                                Traceback (most recent call last)",
      "\u001b[0;32m<ipython-input-28-6687c30726aa>\u001b[0m in \u001b[0;36m<module>\u001b[0;34m\u001b[0m\n\u001b[0;32m----> 1\u001b[0;31m \u001b[0mx\u001b[0m \u001b[0;34m=\u001b[0m \u001b[0mint\u001b[0m\u001b[0;34m(\u001b[0m\u001b[0minput\u001b[0m\u001b[0;34m(\u001b[0m\u001b[0;34m\"A number: \"\u001b[0m\u001b[0;34m)\u001b[0m\u001b[0;34m)\u001b[0m\u001b[0;34m\u001b[0m\u001b[0;34m\u001b[0m\u001b[0m\n\u001b[0m\u001b[1;32m      2\u001b[0m \u001b[0my\u001b[0m \u001b[0;34m=\u001b[0m \u001b[0mint\u001b[0m\u001b[0;34m(\u001b[0m\u001b[0minput\u001b[0m\u001b[0;34m(\u001b[0m\u001b[0;34m\"A number: \"\u001b[0m\u001b[0;34m)\u001b[0m\u001b[0;34m)\u001b[0m\u001b[0;34m\u001b[0m\u001b[0;34m\u001b[0m\u001b[0m\n\u001b[1;32m      3\u001b[0m \u001b[0mprint\u001b[0m\u001b[0;34m(\u001b[0m\u001b[0mx\u001b[0m \u001b[0;34m+\u001b[0m \u001b[0my\u001b[0m\u001b[0;34m)\u001b[0m\u001b[0;34m\u001b[0m\u001b[0;34m\u001b[0m\u001b[0m\n",
      "\u001b[0;31mValueError\u001b[0m: invalid literal for int() with base 10: 'd'"
     ]
    }
   ],
   "source": [
    "x = int(input(\"A number: \"))\n",
    "y = int(input(\"A number: \"))\n",
    "print(x + y)"
   ]
  },
  {
   "cell_type": "markdown",
   "metadata": {},
   "source": [
    "<h3>What happens if an input is not a number"
   ]
  },
  {
   "cell_type": "code",
   "execution_count": null,
   "metadata": {},
   "outputs": [],
   "source": [
    "x = int(input(\"A number: \"))\n",
    "y = int(input(\"A number: \"))\n",
    "print(x + y)"
   ]
  },
  {
   "cell_type": "markdown",
   "metadata": {},
   "source": [
    "<h3>This is not desirable because the program crashes without giving the user a chance to fix the input</h3>\n",
    "<h3>The solution is to catch the exception and give the user a second chance"
   ]
  },
  {
   "cell_type": "code",
   "execution_count": 2,
   "metadata": {},
   "outputs": [
    {
     "name": "stdout",
     "output_type": "stream",
     "text": [
      "A number: d\n",
      "Both inputs need to be integers! Please try again. invalid literal for int() with base 10: 'd'\n",
      "A number: 1\n",
      "A number: 2\n",
      "3\n"
     ]
    }
   ],
   "source": [
    "#1 silent error \n",
    "#2 re-throw \n",
    "\n",
    "while True:\n",
    "    try:\n",
    "        x = int(input(\"A number: \"))\n",
    "        y = int(input(\"A number: \"))\n",
    "        print(x+y)\n",
    "        break\n",
    "    except Exception as ex:\n",
    "        print(\"Both inputs need to be integers! Please try again.\", ex)\n"
   ]
  },
  {
   "cell_type": "code",
   "execution_count": null,
   "metadata": {},
   "outputs": [],
   "source": [
    "#https://www.tutorialsteacher.com/python/error-types-in-python"
   ]
  },
  {
   "cell_type": "code",
   "execution_count": null,
   "metadata": {
    "pycharm": {
     "name": "#%%\n"
    }
   },
   "outputs": [],
   "source": [
    "#https://realpython.com/python-exceptions/"
   ]
  },
  {
   "cell_type": "code",
   "execution_count": null,
   "metadata": {},
   "outputs": [],
   "source": [
    "# https://www.w3schools.com/python/python_quiz.asp"
   ]
  }
 ],
 "metadata": {
  "kernelspec": {
   "display_name": "Python 3 (ipykernel)",
   "language": "python",
   "name": "python3"
  },
  "language_info": {
   "codemirror_mode": {
    "name": "ipython",
    "version": 3
   },
   "file_extension": ".py",
   "mimetype": "text/x-python",
   "name": "python",
   "nbconvert_exporter": "python",
   "pygments_lexer": "ipython3",
   "version": "3.9.7"
  }
 },
 "nbformat": 4,
 "nbformat_minor": 2
}
